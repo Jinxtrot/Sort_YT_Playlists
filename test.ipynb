{
 "cells": [
  {
   "cell_type": "code",
   "execution_count": null,
   "metadata": {},
   "outputs": [],
   "source": [
    "import os\n",
    "import json\n",
    "\n",
    "import google_auth_oauthlib.flow\n",
    "import googleapiclient.discovery\n",
    "import googleapiclient.errors\n",
    "from dotenv import load_dotenv\n",
    "load_dotenv()"
   ]
  },
  {
   "cell_type": "code",
   "execution_count": null,
   "metadata": {},
   "outputs": [],
   "source": [
    "api_key = os.getenv(\"API_KEY\")\n",
    "client_secrets_file = os.getenv(\"CLIENT_SECRET\")\n",
    "\n",
    "api_service_name = \"youtube\"\n",
    "api_version = \"v3\"\n",
    "scopes = [\"https://www.googleapis.com/auth/youtube.readonly\"]"
   ]
  },
  {
   "cell_type": "code",
   "execution_count": null,
   "metadata": {},
   "outputs": [],
   "source": [
    "def get_credentials():\n",
    "    flow = google_auth_oauthlib.flow.InstalledAppFlow.from_client_secrets_file(\n",
    "        client_secrets_file, scopes)\n",
    "    credentials = flow.run_local_server(port=8000, prompt=\"consent\")\n",
    "    return credentials\n",
    "\n",
    "def get_playlists(youtube_service):\n",
    "    response = youtube_service.playlists().list(\n",
    "        part=\"snippet,contentDetails\",\n",
    "        mine=True\n",
    "    ).execute()\n",
    "    return response[\"items\"]\n",
    "\n",
    "def get_videos(youtube_service, playlist_id):\n",
    "    response = youtube_service.playlistItems().list(\n",
    "        part=\"snippet,contentDetails\",\n",
    "        maxResults=50,\n",
    "        playlistId=playlist_id\n",
    "    ).execute()\n",
    "\n",
    "    items = response[\"items\"]\n",
    "    video_ids = [item[\"contentDetails\"][\"videoId\"] for item in items]\n",
    "\n",
    "    videos_response = youtube_service.videos().list(\n",
    "        part=\"snippet,contentDetails\",\n",
    "        id=\",\".join(video_ids)\n",
    "    ).execute()\n",
    "\n",
    "    videos = []\n",
    "    for video in videos_response[\"items\"]:\n",
    "        video_data = {\n",
    "            \"title\": video[\"snippet\"][\"title\"],\n",
    "            \"duration\": video[\"contentDetails\"][\"duration\"]\n",
    "        }\n",
    "        videos.append(video_data)\n",
    "\n",
    "    return videos\n",
    "\n",
    "def main():\n",
    "    # Disable OAuthlib's HTTPS verification when running locally.\n",
    "    # *DO NOT* leave this option enabled in production.\n",
    "    os.environ[\"OAUTHLIB_INSECURE_TRANSPORT\"] = \"1\"\n",
    "\n",
    "    # Get credentials and create an API client\n",
    "    credentials=get_credentials()\n",
    "\n",
    "    youtube = googleapiclient.discovery.build(\n",
    "        api_service_name, api_version, credentials=credentials)\n",
    "\n",
    "    playlists = get_playlists(youtube)\n",
    "    for playlist in playlists:\n",
    "        print(playlist[\"snippet\"][\"title\"])\n",
    "        videos = get_videos(youtube, playlist[\"id\"])\n",
    "        print(\"Videos:\")\n",
    "\n",
    "        for video in videos:\n",
    "            print(video[\"snippet\"][\"title\"])\n",
    "        \n",
    "\n",
    "\n",
    "if __name__ == \"__main__\":\n",
    "    main()\n"
   ]
  }
 ],
 "metadata": {
  "kernelspec": {
   "display_name": "YT_API",
   "language": "python",
   "name": "python3"
  },
  "language_info": {
   "codemirror_mode": {
    "name": "ipython",
    "version": 3
   },
   "file_extension": ".py",
   "mimetype": "text/x-python",
   "name": "python",
   "nbconvert_exporter": "python",
   "pygments_lexer": "ipython3",
   "version": "3.11.7"
  }
 },
 "nbformat": 4,
 "nbformat_minor": 2
}
